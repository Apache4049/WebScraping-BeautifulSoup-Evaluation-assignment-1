{
 "cells": [
  {
   "cell_type": "code",
   "execution_count": null,
   "id": "b62c92b5",
   "metadata": {},
   "outputs": [],
   "source": [
    "!pip install bs4\n",
    "!pip install html5lib\n",
    "!pip install requests"
   ]
  },
  {
   "cell_type": "code",
   "execution_count": null,
   "id": "8f4cde42",
   "metadata": {},
   "outputs": [],
   "source": [
    "from bs4 import BeautifulSoup\n",
    "import requests\n",
    "import re\n",
    "import pandas as pd\n"
   ]
  },
  {
   "cell_type": "code",
   "execution_count": null,
   "id": "10d5fefd",
   "metadata": {},
   "outputs": [],
   "source": [
    "url = \"https://www.imdb.com/list/ls009997493/\"\n",
    "page3 = requests.get(url)\n"
   ]
  },
  {
   "cell_type": "code",
   "execution_count": null,
   "id": "6c1da7de",
   "metadata": {},
   "outputs": [],
   "source": [
    "page3"
   ]
  },
  {
   "cell_type": "code",
   "execution_count": null,
   "id": "f718e75e",
   "metadata": {},
   "outputs": [],
   "source": [
    "soup3 = BeautifulSoup(page3.content)\n",
    "soup3"
   ]
  },
  {
   "cell_type": "code",
   "execution_count": null,
   "id": "bf574ca4",
   "metadata": {},
   "outputs": [],
   "source": [
    "name = soup3.find_all(\"h3\", class_=\"lister-item-header\")\n",
    "name"
   ]
  },
  {
   "cell_type": "code",
   "execution_count": null,
   "id": "4cf6eb00",
   "metadata": {},
   "outputs": [],
   "source": [
    "movies_name = []\n",
    "for i in name:\n",
    "    for j in i.find_all(\"a\"):\n",
    "        movies_name.append(j.text)\n"
   ]
  },
  {
   "cell_type": "code",
   "execution_count": null,
   "id": "1e0078c0",
   "metadata": {},
   "outputs": [],
   "source": [
    "year = soup3.find_all(\"span\",class_=\"lister-item-year text-muted unbold\")\n",
    "year_of_release = [] \n",
    "\n",
    "for k in year:\n",
    "    a=k.text.replace('(','')\n",
    "    year_of_release.append(a.replace(')','')) \n",
    "    "
   ]
  },
  {
   "cell_type": "code",
   "execution_count": null,
   "id": "3fb60da1",
   "metadata": {},
   "outputs": [],
   "source": [
    "rating = soup3.find_all(\"div\",class_=\"ipl-rating-star small\")\n",
    "rating"
   ]
  },
  {
   "cell_type": "code",
   "execution_count": null,
   "id": "57a8a6d6",
   "metadata": {},
   "outputs": [],
   "source": [
    "IMDB_rating = [] \n",
    "for i in rating:\n",
    "      IMDB_rating.append(float(i.text))"
   ]
  },
  {
   "cell_type": "code",
   "execution_count": null,
   "id": "be5dafdb",
   "metadata": {},
   "outputs": [],
   "source": [
    "indian_top_100=pd.DataFrame({})\n",
    "indian_top_100['movies_name']=movies_name\n",
    "indian_top_100['year_of_release']=year_of_release\n",
    "indian_top_100['IMDB_rating']=IMDB_rating\n",
    "indian_top_100    "
   ]
  },
  {
   "cell_type": "code",
   "execution_count": null,
   "id": "347e77d0",
   "metadata": {},
   "outputs": [],
   "source": []
  }
 ],
 "metadata": {
  "kernelspec": {
   "display_name": "Python 3 (ipykernel)",
   "language": "python",
   "name": "python3"
  },
  "language_info": {
   "codemirror_mode": {
    "name": "ipython",
    "version": 3
   },
   "file_extension": ".py",
   "mimetype": "text/x-python",
   "name": "python",
   "nbconvert_exporter": "python",
   "pygments_lexer": "ipython3",
   "version": "3.11.5"
  }
 },
 "nbformat": 4,
 "nbformat_minor": 5
}
